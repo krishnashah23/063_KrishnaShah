{
  "nbformat": 4,
  "nbformat_minor": 0,
  "metadata": {
    "colab": {
      "name": "Lab02_DataPreprocessing_FeatureScaling.ipynb",
      "provenance": [],
      "collapsed_sections": []
    },
    "kernelspec": {
      "name": "python3",
      "display_name": "Python 3"
    },
    "language_info": {
      "name": "python"
    }
  },
  "cells": [
    {
      "cell_type": "code",
      "metadata": {
        "id": "Fm5m527UbKp9"
      },
      "source": [
        "#Excercise \n",
        "#Krishna Shah"
      ],
      "execution_count": 13,
      "outputs": []
    },
    {
      "cell_type": "code",
      "metadata": {
        "colab": {
          "base_uri": "https://localhost:8080/"
        },
        "id": "CbvDCWmBbsUr",
        "outputId": "fe2c9315-1049-4a31-d1fc-54699af880ed"
      },
      "source": [
        "from google.colab import drive\n",
        "drive.mount(\"/content/drive\")\n",
        "\n",
        "import numpy as np\n",
        "import pandas as pd\n",
        "import matplotlib.pyplot as plt\n",
        "import sklearn"
      ],
      "execution_count": 2,
      "outputs": [
        {
          "output_type": "stream",
          "name": "stdout",
          "text": [
            "Mounted at /content/drive\n"
          ]
        }
      ]
    },
    {
      "cell_type": "code",
      "metadata": {
        "colab": {
          "base_uri": "https://localhost:8080/"
        },
        "id": "_InVetkwb1_U",
        "outputId": "ca7d56cb-16cf-4f98-8c35-7fbc273de498"
      },
      "source": [
        "car_data = pd.read_csv(\"/content/drive/MyDrive/ML_Lab1/ML_Lab2/Exercise-CarData.csv\")\n",
        "print(\"\\nData :\\n\", car_data)\n",
        "\n",
        "print(\"\\nData statistics\\n\", car_data.describe())\n",
        "X = car_data.iloc[:, :-1].values \n",
        "Y = car_data.iloc[:, -1].values \n",
        "\n",
        "print(\"\\n\\nInput\\n\", X) \n",
        "print(\"\\n\\nOutput\\n\", Y) \n",
        "\n",
        "X_new = car_data.iloc[:, 2:6].values\n",
        "print(\"\\nTransformation\\n\", X_new)"
      ],
      "execution_count": 5,
      "outputs": [
        {
          "output_type": "stream",
          "name": "stdout",
          "text": [
            "\n",
            "Data :\n",
            "       Unnamed: 0  Price   Age     KM  ... Automatic    CC  Doors  Weight\n",
            "0              0  13500  23.0  46986  ...         0  2000  three    1165\n",
            "1              1  13750  23.0  72937  ...         0  2000      3    1165\n",
            "2              2  13950  24.0  41711  ...         0  2000      3    1165\n",
            "3              3  14950  26.0  48000  ...         0  2000      3    1165\n",
            "4              4  13750  30.0  38500  ...         0  2000      3    1170\n",
            "...          ...    ...   ...    ...  ...       ...   ...    ...     ...\n",
            "1431        1431   7500   NaN  20544  ...         0  1300      3    1025\n",
            "1432        1432  10845  72.0     ??  ...         0  1300      3    1015\n",
            "1433        1433   8500   NaN  17016  ...         0  1300      3    1015\n",
            "1434        1434   7250  70.0     ??  ...         0  1300      3    1015\n",
            "1435        1435   6950  76.0      1  ...         0  1600      5    1114\n",
            "\n",
            "[1436 rows x 11 columns]\n",
            "\n",
            "Data statistics\n",
            "         Unnamed: 0         Price  ...           CC      Weight\n",
            "count  1436.000000   1436.000000  ...  1436.000000  1436.00000\n",
            "mean    717.500000  10730.824513  ...  1566.827994  1072.45961\n",
            "std     414.681806   3626.964585  ...   187.182436    52.64112\n",
            "min       0.000000   4350.000000  ...  1300.000000  1000.00000\n",
            "25%     358.750000   8450.000000  ...  1400.000000  1040.00000\n",
            "50%     717.500000   9900.000000  ...  1600.000000  1070.00000\n",
            "75%    1076.250000  11950.000000  ...  1600.000000  1085.00000\n",
            "max    1435.000000  32500.000000  ...  2000.000000  1615.00000\n",
            "\n",
            "[8 rows x 7 columns]\n",
            "\n",
            "\n",
            "Input\n",
            " [[0 13500 23.0 ... 0 2000 'three']\n",
            " [1 13750 23.0 ... 0 2000 '3']\n",
            " [2 13950 24.0 ... 0 2000 '3']\n",
            " ...\n",
            " [1433 8500 nan ... 0 1300 '3']\n",
            " [1434 7250 70.0 ... 0 1300 '3']\n",
            " [1435 6950 76.0 ... 0 1600 '5']]\n",
            "\n",
            "\n",
            "Output\n",
            " [1165 1165 1165 ... 1015 1015 1114]\n",
            "\n",
            "Transformation\n",
            " [[23.0 '46986' 'Diesel' '90']\n",
            " [23.0 '72937' 'Diesel' '90']\n",
            " [24.0 '41711' 'Diesel' '90']\n",
            " ...\n",
            " [nan '17016' 'Petrol' '86']\n",
            " [70.0 '??' nan '86']\n",
            " [76.0 '1' 'Petrol' '110']]\n"
          ]
        }
      ]
    },
    {
      "cell_type": "code",
      "metadata": {
        "colab": {
          "base_uri": "https://localhost:8080/"
        },
        "id": "1xT99-kOclUl",
        "outputId": "467e4016-f3ed-45d7-f939-44dfd264d32b"
      },
      "source": [
        "from sklearn.impute import SimpleImputer\n",
        "imputer = SimpleImputer(missing_values = np.nan, strategy = \"mean\")\n",
        "imputer = imputer.fit(X[:, [2, 6]])\n",
        "print(f\"\\nImputer :- {imputer}\")\n",
        "\n",
        "X[:, [2, 6]] = imputer.transform(X[:, [2, 6]])\n",
        "print(f\"\\n\\nX is :- {X}\")\n",
        "\n",
        "imputer = SimpleImputer(missing_values = np.nan, strategy = \"most_frequent\")\n",
        "\n",
        "imputer = imputer.fit(X[:, [4, 9]])\n",
        "print(f\"\\n\\nImputer :- {imputer}\")\n",
        "\n",
        "X[:, [4, 9]] = imputer.transform(X[:, [4, 9]])\n",
        "print(f\"\\n\\nX is :- {X}\")"
      ],
      "execution_count": 8,
      "outputs": [
        {
          "output_type": "stream",
          "name": "stdout",
          "text": [
            "\n",
            "Imputer :- SimpleImputer(add_indicator=False, copy=True, fill_value=None,\n",
            "              missing_values=nan, strategy='mean', verbose=0)\n",
            "\n",
            "\n",
            "X is :- [[0 13500 23.0 ... 0 2000 'three']\n",
            " [1 13750 23.0 ... 0 2000 '3']\n",
            " [2 13950 24.0 ... 0 2000 '3']\n",
            " ...\n",
            " [1433 8500 55.67215568862275 ... 0 1300 '3']\n",
            " [1434 7250 70.0 ... 0 1300 '3']\n",
            " [1435 6950 76.0 ... 0 1600 '5']]\n",
            "\n",
            "\n",
            "Imputer :- SimpleImputer(add_indicator=False, copy=True, fill_value=None,\n",
            "              missing_values=nan, strategy='most_frequent', verbose=0)\n",
            "\n",
            "\n",
            "X is :- [[0 13500 23.0 ... 0 2000 'three']\n",
            " [1 13750 23.0 ... 0 2000 '3']\n",
            " [2 13950 24.0 ... 0 2000 '3']\n",
            " ...\n",
            " [1433 8500 55.67215568862275 ... 0 1300 '3']\n",
            " [1434 7250 70.0 ... 0 1300 '3']\n",
            " [1435 6950 76.0 ... 0 1600 '5']]\n"
          ]
        }
      ]
    },
    {
      "cell_type": "code",
      "metadata": {
        "colab": {
          "base_uri": "https://localhost:8080/"
        },
        "id": "mehiZFZKc_U2",
        "outputId": "ee50f8a8-4e7d-4de2-87e2-5b8417626483"
      },
      "source": [
        "from sklearn.preprocessing import MinMaxScaler, StandardScaler\n",
        "\n",
        "X_temp = X[:, [1, 2, 6, 7, 8]]\n",
        "scaler = MinMaxScaler()\n",
        "\n",
        "scaled_x = scaler.fit_transform(X_temp)\n",
        "print(f\"\\n\\nScaled _x :- {scaled_x}\")\n",
        "\n",
        "stad = StandardScaler()\n",
        "std_x = stad.fit_transform(scaled_x)\n",
        "print(f\"\\n\\nstandard x :- {std_x}\")"
      ],
      "execution_count": 9,
      "outputs": [
        {
          "output_type": "stream",
          "name": "stdout",
          "text": [
            "\n",
            "\n",
            "Scaled _x :- [[0.3250444  0.27848101 1.         0.         1.        ]\n",
            " [0.3339254  0.27848101 1.         0.         1.        ]\n",
            " [0.3410302  0.29113924 0.67496112 0.         1.        ]\n",
            " ...\n",
            " [0.14742451 0.6920526  0.         0.         0.        ]\n",
            " [0.10301954 0.87341772 1.         0.         0.        ]\n",
            " [0.09236234 0.94936709 0.         0.         0.42857143]]\n",
            "\n",
            "\n",
            "standard x :- [[ 7.63762679e-01 -1.82280225e+00  7.33305621e-01 -2.42893084e-01\n",
            "   2.31497633e+00]\n",
            " [ 8.32714853e-01 -1.82280225e+00  7.33305621e-01 -2.42893084e-01\n",
            "   2.31497633e+00]\n",
            " [ 8.87876592e-01 -1.76701156e+00  0.00000000e+00 -2.42893084e-01\n",
            "   2.31497633e+00]\n",
            " ...\n",
            " [-6.15280799e-01 -4.89326897e-16 -1.52274947e+00 -2.42893084e-01\n",
            "  -1.42599356e+00]\n",
            " [-9.60041669e-01  7.99360384e-01  7.33305621e-01 -2.42893084e-01\n",
            "  -1.42599356e+00]\n",
            " [-1.04278428e+00  1.13410455e+00 -1.52274947e+00 -2.42893084e-01\n",
            "   1.77279249e-01]]\n"
          ]
        }
      ]
    },
    {
      "cell_type": "code",
      "metadata": {
        "colab": {
          "base_uri": "https://localhost:8080/"
        },
        "id": "Q-yydwytdHHS",
        "outputId": "578e7572-aca1-4a18-aed8-2e317a19c4eb"
      },
      "source": [
        "from sklearn import preprocessing\n",
        "\n",
        "label_encode = preprocessing.LabelEncoder()\n",
        "X[ : , 4] = label_encode.fit_transform(X[ : ,4])\n",
        "X[ : , 9] = label_encode.fit_transform(X[ : ,9])\n",
        "\n",
        "duplicate_data = pd.get_dummies(car_data['Doors'])\n",
        "# print(f\"\\n\\nDuplicate Data :- {duplicate_data}\")\n",
        "car_data = car_data.drop(['Doors', ], axis = 1)\n",
        "car_data = pd.concat([duplicate_data, car_data], axis = 1)\n",
        "\n",
        "diplicate_data = pd.get_dummies(car_data['FuelType'])\n",
        "# print(f\"\\n\\nDuplicate Data :- {duplicate_data}\")\n",
        "car_data = car_data.drop(['FuelType',], axis = 1)\n",
        "car_data = pd.concat([duplicate_data, car_data], axis = 1)\n",
        "\n",
        "print(\"\\n\\nLast Data Heads \\n\",car_data.head(20))\n",
        "print(\"\\n\\nLast Data Tails \\n\",car_data.tail(20))"
      ],
      "execution_count": 10,
      "outputs": [
        {
          "output_type": "stream",
          "name": "stdout",
          "text": [
            "\n",
            "\n",
            "Last Data Heads \n",
            "     2  3  4  5  five  four  ...     KM    HP  MetColor  Automatic    CC  Weight\n",
            "0   0  0  0  0     0     0  ...  46986    90       1.0          0  2000    1165\n",
            "1   0  1  0  0     0     0  ...  72937    90       1.0          0  2000    1165\n",
            "2   0  1  0  0     0     0  ...  41711    90       NaN          0  2000    1165\n",
            "3   0  1  0  0     0     0  ...  48000    90       0.0          0  2000    1165\n",
            "4   0  1  0  0     0     0  ...  38500    90       0.0          0  2000    1170\n",
            "5   0  1  0  0     0     0  ...  61000    90       0.0          0  2000    1170\n",
            "6   0  1  0  0     0     0  ...     ??  ????       NaN          0  2000    1245\n",
            "7   0  1  0  0     0     0  ...  75889    90       1.0          0  2000    1245\n",
            "8   0  1  0  0     0     0  ...  19700   192       0.0          0  1800    1185\n",
            "9   0  1  0  0     0     0  ...  71138  ????       NaN          0  1900    1105\n",
            "10  0  1  0  0     0     0  ...  31461   192       0.0          0  1800    1185\n",
            "11  0  1  0  0     0     0  ...  43610   192       0.0          0  1800    1185\n",
            "12  0  1  0  0     0     0  ...  32189   192       0.0          0  1800    1185\n",
            "13  0  1  0  0     0     0  ...  23000   192       1.0          0  1800    1185\n",
            "14  0  1  0  0     0     0  ...  34131   192       1.0          0  1800    1185\n",
            "15  0  1  0  0     0     0  ...  18739  ????       0.0          0  1800    1185\n",
            "16  0  1  0  0     0     0  ...  34000   192       1.0          0  1800    1185\n",
            "17  0  1  0  0     0     0  ...  21716   110       1.0          0  1600    1105\n",
            "18  0  1  0  0     0     0  ...  25563   110       0.0          0  1600    1065\n",
            "19  0  1  0  0     0     0  ...  64359   110       1.0          0  1600    1105\n",
            "\n",
            "[20 rows x 23 columns]\n",
            "\n",
            "\n",
            "Last Data Tails \n",
            "       2  3  4  5  five  four  ...     KM   HP  MetColor  Automatic    CC  Weight\n",
            "1416  0  0  0  1     0     0  ...  40093  110       0.0          0  1600    1114\n",
            "1417  0  1  0  0     0     0  ...  39800  107       0.0          1  1600    1080\n",
            "1418  0  1  0  0     0     0  ...  39168   86       NaN          0  1300    1015\n",
            "1419  0  1  0  0     0     0  ...  38945  110       NaN          0  1600    1050\n",
            "1420  0  0  1  0     0     0  ...  36537  110       0.0          1  1600    1075\n",
            "1421  0  1  0  0     0     0  ...     ??   86       0.0          1  1300    1045\n",
            "1422  0  1  0  0     0     0  ...  36000  110       1.0          0  1600    1050\n",
            "1423  0  1  0  0     0     0  ...  35821   86       0.0          1  1300    1015\n",
            "1424  0  1  0  0     0     0  ...  34717   86       0.0          0  1300    1015\n",
            "1425  0  0  1  0     0     0  ...     ??   86       1.0          0  1300    1000\n",
            "1426  0  1  0  0     0     0  ...  30964  110       NaN          1  1600    1080\n",
            "1427  0  1  0  0     0     0  ...  29000   86       1.0          1  1300    1045\n",
            "1428  0  1  0  0     0     0  ...     ??   86       NaN          0  1300    1015\n",
            "1429  0  0  0  1     0     0  ...  24000   86       1.0          1  1300    1065\n",
            "1430  0  1  0  0     0     0  ...  23000   86       0.0          0  1300    1015\n",
            "1431  0  1  0  0     0     0  ...  20544   86       1.0          0  1300    1025\n",
            "1432  0  1  0  0     0     0  ...     ??   86       0.0          0  1300    1015\n",
            "1433  0  1  0  0     0     0  ...  17016   86       0.0          0  1300    1015\n",
            "1434  0  1  0  0     0     0  ...     ??   86       1.0          0  1300    1015\n",
            "1435  0  0  0  1     0     0  ...      1  110       0.0          0  1600    1114\n",
            "\n",
            "[20 rows x 23 columns]\n"
          ]
        }
      ]
    },
    {
      "cell_type": "code",
      "metadata": {
        "colab": {
          "base_uri": "https://localhost:8080/",
          "height": 622
        },
        "id": "w5Tl2wyvda2m",
        "outputId": "ee2d9f91-8744-4582-ccb7-7f62126ba71b"
      },
      "source": [
        "import seaborn as sns\n",
        "from sklearn.preprocessing import LabelEncoder,OneHotEncoder\n",
        "import matplotlib.pyplot as plt\n",
        "\n",
        "data_corr = pd.read_csv('/content/drive/MyDrive/ML_Lab1/ML_Lab2/Exercise-CarData.csv')\n",
        "\n",
        "print(f\"\\n\\nData :- {data_corr}\\n\\n\")\n",
        "\n",
        "corr = data_corr.corr()\n",
        "corr.head()\n",
        "sns.heatmap(corr)\n",
        "plt.show()\n"
      ],
      "execution_count": 15,
      "outputs": [
        {
          "output_type": "stream",
          "name": "stdout",
          "text": [
            "\n",
            "\n",
            "Data :-       Unnamed: 0  Price   Age     KM  ... Automatic    CC  Doors  Weight\n",
            "0              0  13500  23.0  46986  ...         0  2000  three    1165\n",
            "1              1  13750  23.0  72937  ...         0  2000      3    1165\n",
            "2              2  13950  24.0  41711  ...         0  2000      3    1165\n",
            "3              3  14950  26.0  48000  ...         0  2000      3    1165\n",
            "4              4  13750  30.0  38500  ...         0  2000      3    1170\n",
            "...          ...    ...   ...    ...  ...       ...   ...    ...     ...\n",
            "1431        1431   7500   NaN  20544  ...         0  1300      3    1025\n",
            "1432        1432  10845  72.0     ??  ...         0  1300      3    1015\n",
            "1433        1433   8500   NaN  17016  ...         0  1300      3    1015\n",
            "1434        1434   7250  70.0     ??  ...         0  1300      3    1015\n",
            "1435        1435   6950  76.0      1  ...         0  1600      5    1114\n",
            "\n",
            "[1436 rows x 11 columns]\n",
            "\n",
            "\n"
          ]
        },
        {
          "output_type": "display_data",
          "data": {
            "image/png": "[encoded data removed]",
            "text/plain": [
              "<Figure size 432x288 with 2 Axes>"
            ]
          },
          "metadata": {
            "needs_background": "light"
          }
        }
      ]
    }
  ]
}