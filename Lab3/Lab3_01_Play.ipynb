{
  "nbformat": 4,
  "nbformat_minor": 0,
  "metadata": {
    "colab": {
      "name": "Lab3_01_Play.ipynb",
      "provenance": []
    },
    "kernelspec": {
      "name": "python3",
      "display_name": "Python 3"
    },
    "language_info": {
      "name": "python"
    }
  },
  "cells": [
    {
      "cell_type": "code",
      "metadata": {
        "colab": {
          "base_uri": "https://localhost:8080/"
        },
        "id": "ZJPLA_q9n6Di",
        "outputId": "af520fa0-10d2-4e4b-cd37-b2d3a8b7894b"
      },
      "source": [
        "from google.colab import drive\n",
        "drive.mount(\"/content/drive\")"
      ],
      "execution_count": 2,
      "outputs": [
        {
          "output_type": "stream",
          "name": "stdout",
          "text": [
            "Mounted at /content/drive\n"
          ]
        }
      ]
    },
    {
      "cell_type": "code",
      "metadata": {
        "id": "FRwZuQ5Aonwf"
      },
      "source": [
        "import numpy as np\n",
        "import pandas as pd\n",
        "import matplotlib.pyplot as plt\n",
        "from sklearn import datasets, preprocessing\n",
        "from sklearn.naive_bayes import GaussianNB, MultinomialNB\n",
        "\n",
        "dataset1 = pd.read_csv(\"/content/drive/MyDrive/ML_Lab1/ML_Lab3/Dataset1.csv\")"
      ],
      "execution_count": 3,
      "outputs": []
    },
    {
      "cell_type": "code",
      "metadata": {
        "colab": {
          "base_uri": "https://localhost:8080/"
        },
        "id": "Zkhb9oqapCGA",
        "outputId": "ba66b494-8d22-4906-de67-0505bfd1e6fe"
      },
      "source": [
        "#Preprocessing\n",
        "le = preprocessing.LabelEncoder()\n",
        "\n",
        "dummy_outlook = pd.get_dummies(dataset1['Outlook'])\n",
        "dataset1 = dataset1.drop(['Outlook'],axis=1)\n",
        "dataset1 = pd.concat([dummy_outlook,dataset1],axis=1)\n",
        "\n",
        "dummy_wind = pd.get_dummies(dataset1['Wind'])\n",
        "dataset1 = dataset1.drop(['Wind'],axis=1)\n",
        "dataset1 = pd.concat([dummy_wind,dataset1],axis=1)\n",
        "\n",
        "dataset1['Temp'] = le.fit_transform(dataset1['Temp'])\n",
        "dataset1['Humidity'] = le.fit_transform(dataset1['Humidity'])\n",
        "dataset1['Play'] = le.fit_transform(dataset1['Play'])\n",
        "\n",
        "\n",
        "print(dataset1)"
      ],
      "execution_count": 5,
      "outputs": [
        {
          "output_type": "stream",
          "name": "stdout",
          "text": [
            "    F  T  O  R  S  Temp  Humidity  Play\n",
            "0   1  0  0  1  0     1         2     0\n",
            "1   0  1  0  1  0     1         0     0\n",
            "2   1  0  1  0  0     1         2     1\n",
            "3   1  0  0  0  1     2         2     1\n",
            "4   1  0  0  0  1     0         2     1\n",
            "5   0  1  0  0  1     0         1     0\n",
            "6   0  1  1  0  0     0         2     1\n",
            "7   1  0  0  1  0     2         2     0\n",
            "8   1  0  0  1  0     0         1     1\n",
            "9   1  0  0  0  1     2         0     1\n",
            "10  0  1  0  1  0     2         0     1\n",
            "11  0  1  1  0  0     2         1     1\n",
            "12  1  0  1  0  0     1         2     1\n",
            "13  0  1  0  0  1     2         2     0\n"
          ]
        }
      ]
    },
    {
      "cell_type": "code",
      "metadata": {
        "colab": {
          "base_uri": "https://localhost:8080/"
        },
        "id": "jh4ZvS9jpXTz",
        "outputId": "d47467a7-b915-4765-cd48-c7c69507135d"
      },
      "source": [
        "X = dataset1.iloc[:,:7].values\n",
        "Y = dataset1.iloc[:,7].values\n",
        "print(X)\n",
        "print(Y)"
      ],
      "execution_count": 7,
      "outputs": [
        {
          "output_type": "stream",
          "name": "stdout",
          "text": [
            "[[1 0 0 1 0 1 2]\n",
            " [0 1 0 1 0 1 0]\n",
            " [1 0 1 0 0 1 2]\n",
            " [1 0 0 0 1 2 2]\n",
            " [1 0 0 0 1 0 2]\n",
            " [0 1 0 0 1 0 1]\n",
            " [0 1 1 0 0 0 2]\n",
            " [1 0 0 1 0 2 2]\n",
            " [1 0 0 1 0 0 1]\n",
            " [1 0 0 0 1 2 0]\n",
            " [0 1 0 1 0 2 0]\n",
            " [0 1 1 0 0 2 1]\n",
            " [1 0 1 0 0 1 2]\n",
            " [0 1 0 0 1 2 2]]\n",
            "[0 0 1 1 1 0 1 0 1 1 1 1 1 0]\n"
          ]
        }
      ]
    },
    {
      "cell_type": "code",
      "metadata": {
        "id": "UNvA06nJpmwx"
      },
      "source": [
        "from sklearn.model_selection import train_test_split\n",
        "X_train, X_test, Y_train, Y_test = train_test_split(X, Y, test_size = 0.20, random_state = 64)"
      ],
      "execution_count": 12,
      "outputs": []
    },
    {
      "cell_type": "code",
      "metadata": {
        "colab": {
          "base_uri": "https://localhost:8080/"
        },
        "id": "TwSdy5E9py1Z",
        "outputId": "7bb1460d-a705-4706-e4a2-2020969c6e78"
      },
      "source": [
        "model=MultinomialNB()\n",
        "model.fit(X_train,Y_train)\n",
        "Y_pred = model.predict(X_test)\n",
        "print(Y_test)\n",
        "print(Y_pred)"
      ],
      "execution_count": 13,
      "outputs": [
        {
          "output_type": "stream",
          "name": "stdout",
          "text": [
            "[1 1 1]\n",
            "[0 1 1]\n"
          ]
        }
      ]
    },
    {
      "cell_type": "code",
      "metadata": {
        "colab": {
          "base_uri": "https://localhost:8080/"
        },
        "id": "tKUkbk7GqCyd",
        "outputId": "b57ae774-0bd9-4e21-ba59-9c9160bf0382"
      },
      "source": [
        "from sklearn import metrics\n",
        "\n",
        "print(f\"Accuracy is :- {metrics.accuracy_score(Y_test, Y_pred)}\")\n",
        "\n",
        "# print precision and recall\n",
        "from sklearn.metrics import precision_score\n",
        "from sklearn.metrics import recall_score\n",
        "\n",
        "precision = precision_score(Y_test, Y_pred)\n",
        "recall = recall_score(Y_test, Y_pred)\n",
        "\n",
        "print(f\"precision :- {precision}\")\n",
        "print(f\"recall :- {recall}\")"
      ],
      "execution_count": 14,
      "outputs": [
        {
          "output_type": "stream",
          "name": "stdout",
          "text": [
            "Accuracy is :- 0.6666666666666666\n",
            "precision :- 1.0\n",
            "recall :- 0.6666666666666666\n"
          ]
        }
      ]
    }
  ]
}