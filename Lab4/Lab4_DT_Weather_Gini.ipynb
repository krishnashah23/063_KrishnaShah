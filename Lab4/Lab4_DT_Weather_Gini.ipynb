{
  "nbformat": 4,
  "nbformat_minor": 0,
  "metadata": {
    "colab": {
      "name": "Lab4_DT_Weather_Gini.ipynb",
      "provenance": [],
      "collapsed_sections": []
    },
    "kernelspec": {
      "display_name": "Python 3",
      "language": "python",
      "name": "python3"
    },
    "language_info": {
      "codemirror_mode": {
        "name": "ipython",
        "version": 3
      },
      "file_extension": ".py",
      "mimetype": "text/x-python",
      "name": "python",
      "nbconvert_exporter": "python",
      "pygments_lexer": "ipython3",
      "version": "3.8.10"
    }
  },
  "cells": [
    {
      "cell_type": "markdown",
      "metadata": {
        "id": "De7AICwsdTMR"
      },
      "source": [
        "**Aim: Implement Decsion Tree classifier**\n",
        "\n",
        "\n",
        "- Implement Decision Tree classifier using scikit learn library\n",
        "- Test the classifier for Weather dataset"
      ]
    },
    {
      "cell_type": "markdown",
      "metadata": {
        "id": "alhwH449dTMd"
      },
      "source": [
        "    Step 1: Import necessary libraries."
      ]
    },
    {
      "cell_type": "code",
      "metadata": {
        "id": "1CNH0GcydTMk"
      },
      "source": [
        "from sklearn import preprocessing\n",
        "from sklearn.tree import DecisionTreeClassifier\n",
        "import pandas as pd"
      ],
      "execution_count": 6,
      "outputs": []
    },
    {
      "cell_type": "markdown",
      "metadata": {
        "id": "jw3TNFuOdTNH"
      },
      "source": [
        "    Step 2: Prepare dataset."
      ]
    },
    {
      "cell_type": "code",
      "metadata": {
        "colab": {
          "base_uri": "https://localhost:8080/",
          "height": 480
        },
        "id": "8FYtofzfdTNM",
        "outputId": "c365956e-bac6-4273-dfee-9b63ca13c33f"
      },
      "source": [
        "#Predictor variables\n",
        "Outlook = ['Rainy', 'Rainy', 'Overcast', 'Sunny', 'Sunny', 'Sunny', 'Overcast',\n",
        "            'Rainy', 'Rainy', 'Sunny', 'Rainy','Overcast', 'Overcast', 'Sunny']\n",
        "Temperature = ['Hot', 'Hot', 'Hot', 'Mild', 'Cool', 'Cool', 'Cool',\n",
        "                'Mild', 'Cool', 'Mild', 'Mild', 'Mild', 'Hot', 'Mild']\n",
        "Humidity = ['High', 'High', 'High', 'High', 'Normal', 'Normal', 'Normal',\n",
        "            'High', 'Normal', 'Normal', 'Normal', 'High', 'Normal', 'High']\n",
        "Wind = ['False', 'True', 'False', 'False', 'False', 'True', 'True',\n",
        "            'False', 'False', 'False', 'True', 'True', 'False', 'True']\n",
        "\n",
        "#Class Label:\n",
        "Play = ['No', 'No', 'Yes', 'Yes', 'Yes', 'No', 'Yes', 'No',\n",
        "'Yes', 'Yes', 'Yes', 'Yes', 'Yes', 'No']\n",
        "data = {\n",
        "    'Outlook':Outlook,\n",
        "    'Temperature':Temperature,\n",
        "    'Humidity':Humidity,\n",
        "    'Wind':Wind,\n",
        "    'Play':Play\n",
        "}\n",
        "\n",
        "dataset = pd.DataFrame(data)\n",
        "dataset"
      ],
      "execution_count": 7,
      "outputs": [
        {
          "output_type": "execute_result",
          "data": {
            "text/html": [
              "<div>\n",
              "<style scoped>\n",
              "    .dataframe tbody tr th:only-of-type {\n",
              "        vertical-align: middle;\n",
              "    }\n",
              "\n",
              "    .dataframe tbody tr th {\n",
              "        vertical-align: top;\n",
              "    }\n",
              "\n",
              "    .dataframe thead th {\n",
              "        text-align: right;\n",
              "    }\n",
              "</style>\n",
              "<table border=\"1\" class=\"dataframe\">\n",
              "  <thead>\n",
              "    <tr style=\"text-align: right;\">\n",
              "      <th></th>\n",
              "      <th>Outlook</th>\n",
              "      <th>Temperature</th>\n",
              "      <th>Humidity</th>\n",
              "      <th>Wind</th>\n",
              "      <th>Play</th>\n",
              "    </tr>\n",
              "  </thead>\n",
              "  <tbody>\n",
              "    <tr>\n",
              "      <th>0</th>\n",
              "      <td>Rainy</td>\n",
              "      <td>Hot</td>\n",
              "      <td>High</td>\n",
              "      <td>False</td>\n",
              "      <td>No</td>\n",
              "    </tr>\n",
              "    <tr>\n",
              "      <th>1</th>\n",
              "      <td>Rainy</td>\n",
              "      <td>Hot</td>\n",
              "      <td>High</td>\n",
              "      <td>True</td>\n",
              "      <td>No</td>\n",
              "    </tr>\n",
              "    <tr>\n",
              "      <th>2</th>\n",
              "      <td>Overcast</td>\n",
              "      <td>Hot</td>\n",
              "      <td>High</td>\n",
              "      <td>False</td>\n",
              "      <td>Yes</td>\n",
              "    </tr>\n",
              "    <tr>\n",
              "      <th>3</th>\n",
              "      <td>Sunny</td>\n",
              "      <td>Mild</td>\n",
              "      <td>High</td>\n",
              "      <td>False</td>\n",
              "      <td>Yes</td>\n",
              "    </tr>\n",
              "    <tr>\n",
              "      <th>4</th>\n",
              "      <td>Sunny</td>\n",
              "      <td>Cool</td>\n",
              "      <td>Normal</td>\n",
              "      <td>False</td>\n",
              "      <td>Yes</td>\n",
              "    </tr>\n",
              "    <tr>\n",
              "      <th>5</th>\n",
              "      <td>Sunny</td>\n",
              "      <td>Cool</td>\n",
              "      <td>Normal</td>\n",
              "      <td>True</td>\n",
              "      <td>No</td>\n",
              "    </tr>\n",
              "    <tr>\n",
              "      <th>6</th>\n",
              "      <td>Overcast</td>\n",
              "      <td>Cool</td>\n",
              "      <td>Normal</td>\n",
              "      <td>True</td>\n",
              "      <td>Yes</td>\n",
              "    </tr>\n",
              "    <tr>\n",
              "      <th>7</th>\n",
              "      <td>Rainy</td>\n",
              "      <td>Mild</td>\n",
              "      <td>High</td>\n",
              "      <td>False</td>\n",
              "      <td>No</td>\n",
              "    </tr>\n",
              "    <tr>\n",
              "      <th>8</th>\n",
              "      <td>Rainy</td>\n",
              "      <td>Cool</td>\n",
              "      <td>Normal</td>\n",
              "      <td>False</td>\n",
              "      <td>Yes</td>\n",
              "    </tr>\n",
              "    <tr>\n",
              "      <th>9</th>\n",
              "      <td>Sunny</td>\n",
              "      <td>Mild</td>\n",
              "      <td>Normal</td>\n",
              "      <td>False</td>\n",
              "      <td>Yes</td>\n",
              "    </tr>\n",
              "    <tr>\n",
              "      <th>10</th>\n",
              "      <td>Rainy</td>\n",
              "      <td>Mild</td>\n",
              "      <td>Normal</td>\n",
              "      <td>True</td>\n",
              "      <td>Yes</td>\n",
              "    </tr>\n",
              "    <tr>\n",
              "      <th>11</th>\n",
              "      <td>Overcast</td>\n",
              "      <td>Mild</td>\n",
              "      <td>High</td>\n",
              "      <td>True</td>\n",
              "      <td>Yes</td>\n",
              "    </tr>\n",
              "    <tr>\n",
              "      <th>12</th>\n",
              "      <td>Overcast</td>\n",
              "      <td>Hot</td>\n",
              "      <td>Normal</td>\n",
              "      <td>False</td>\n",
              "      <td>Yes</td>\n",
              "    </tr>\n",
              "    <tr>\n",
              "      <th>13</th>\n",
              "      <td>Sunny</td>\n",
              "      <td>Mild</td>\n",
              "      <td>High</td>\n",
              "      <td>True</td>\n",
              "      <td>No</td>\n",
              "    </tr>\n",
              "  </tbody>\n",
              "</table>\n",
              "</div>"
            ],
            "text/plain": [
              "     Outlook Temperature Humidity   Wind Play\n",
              "0      Rainy         Hot     High  False   No\n",
              "1      Rainy         Hot     High   True   No\n",
              "2   Overcast         Hot     High  False  Yes\n",
              "3      Sunny        Mild     High  False  Yes\n",
              "4      Sunny        Cool   Normal  False  Yes\n",
              "5      Sunny        Cool   Normal   True   No\n",
              "6   Overcast        Cool   Normal   True  Yes\n",
              "7      Rainy        Mild     High  False   No\n",
              "8      Rainy        Cool   Normal  False  Yes\n",
              "9      Sunny        Mild   Normal  False  Yes\n",
              "10     Rainy        Mild   Normal   True  Yes\n",
              "11  Overcast        Mild     High   True  Yes\n",
              "12  Overcast         Hot   Normal  False  Yes\n",
              "13     Sunny        Mild     High   True   No"
            ]
          },
          "metadata": {},
          "execution_count": 7
        }
      ]
    },
    {
      "cell_type": "markdown",
      "metadata": {
        "id": "8FncMW4IdTNk"
      },
      "source": [
        "    Step 3: Digitize the data set using encoding"
      ]
    },
    {
      "cell_type": "code",
      "metadata": {
        "colab": {
          "base_uri": "https://localhost:8080/"
        },
        "id": "Awu5kIQxdTNo",
        "outputId": "ab084095-c8b2-4810-fdec-753ab74dc4e5"
      },
      "source": [
        "from sklearn.preprocessing import OneHotEncoder,LabelEncoder\n",
        "\n",
        "encoder=OneHotEncoder(sparse=False)\n",
        "le = LabelEncoder()\n",
        "\n",
        "Outlook_encoded = pd.DataFrame (encoder.fit_transform(dataset[['Outlook']]))\n",
        "Outlook_encoded.columns = encoder.get_feature_names(['Outlook'])\n",
        "\n",
        "Temperature_encoded = pd.DataFrame (encoder.fit_transform(dataset[['Temperature']]))\n",
        "Temperature_encoded.columns = encoder.get_feature_names(['Temperature'])\n",
        "\n",
        "Humidity_encoded = pd.DataFrame (encoder.fit_transform(dataset[['Humidity']]))\n",
        "Humidity_encoded.columns = encoder.get_feature_names(['Humidity'])\n",
        "\n",
        "Wind_encoded = pd.DataFrame (encoder.fit_transform(dataset[['Wind']]))\n",
        "Wind_encoded.columns = encoder.get_feature_names(['Wind'])\n",
        "\n",
        "Play_encoded = pd.DataFrame (le.fit_transform(Play))\n",
        "dataset['Play'] = Play_encoded\n",
        "\n",
        "print(\"Weather:\" ,Outlook_encoded)\n",
        "print(\"Temerature:\" ,Temperature_encoded)\n",
        "print(\"Humidity:\" ,Humidity_encoded)\n",
        "print(\"Wind:\" ,Wind_encoded)\n",
        "print(\"Play:\" ,Play_encoded)"
      ],
      "execution_count": 9,
      "outputs": [
        {
          "output_type": "stream",
          "name": "stdout",
          "text": [
            "Weather:     Outlook_Overcast  Outlook_Rainy  Outlook_Sunny\n",
            "0                0.0            1.0            0.0\n",
            "1                0.0            1.0            0.0\n",
            "2                1.0            0.0            0.0\n",
            "3                0.0            0.0            1.0\n",
            "4                0.0            0.0            1.0\n",
            "5                0.0            0.0            1.0\n",
            "6                1.0            0.0            0.0\n",
            "7                0.0            1.0            0.0\n",
            "8                0.0            1.0            0.0\n",
            "9                0.0            0.0            1.0\n",
            "10               0.0            1.0            0.0\n",
            "11               1.0            0.0            0.0\n",
            "12               1.0            0.0            0.0\n",
            "13               0.0            0.0            1.0\n",
            "Temerature:     Temperature_Cool  Temperature_Hot  Temperature_Mild\n",
            "0                0.0              1.0               0.0\n",
            "1                0.0              1.0               0.0\n",
            "2                0.0              1.0               0.0\n",
            "3                0.0              0.0               1.0\n",
            "4                1.0              0.0               0.0\n",
            "5                1.0              0.0               0.0\n",
            "6                1.0              0.0               0.0\n",
            "7                0.0              0.0               1.0\n",
            "8                1.0              0.0               0.0\n",
            "9                0.0              0.0               1.0\n",
            "10               0.0              0.0               1.0\n",
            "11               0.0              0.0               1.0\n",
            "12               0.0              1.0               0.0\n",
            "13               0.0              0.0               1.0\n",
            "Humidity:     Humidity_High  Humidity_Normal\n",
            "0             1.0              0.0\n",
            "1             1.0              0.0\n",
            "2             1.0              0.0\n",
            "3             1.0              0.0\n",
            "4             0.0              1.0\n",
            "5             0.0              1.0\n",
            "6             0.0              1.0\n",
            "7             1.0              0.0\n",
            "8             0.0              1.0\n",
            "9             0.0              1.0\n",
            "10            0.0              1.0\n",
            "11            1.0              0.0\n",
            "12            0.0              1.0\n",
            "13            1.0              0.0\n",
            "Wind:     Wind_False  Wind_True\n",
            "0          1.0        0.0\n",
            "1          0.0        1.0\n",
            "2          1.0        0.0\n",
            "3          1.0        0.0\n",
            "4          1.0        0.0\n",
            "5          0.0        1.0\n",
            "6          0.0        1.0\n",
            "7          1.0        0.0\n",
            "8          1.0        0.0\n",
            "9          1.0        0.0\n",
            "10         0.0        1.0\n",
            "11         0.0        1.0\n",
            "12         1.0        0.0\n",
            "13         0.0        1.0\n",
            "Play:     0\n",
            "0   0\n",
            "1   0\n",
            "2   1\n",
            "3   1\n",
            "4   1\n",
            "5   0\n",
            "6   1\n",
            "7   0\n",
            "8   1\n",
            "9   1\n",
            "10  1\n",
            "11  1\n",
            "12  1\n",
            "13  0\n"
          ]
        }
      ]
    },
    {
      "cell_type": "markdown",
      "metadata": {
        "id": "ftSYL4UFdTN8"
      },
      "source": [
        "    Step 4: Merge different features to prepare dataset"
      ]
    },
    {
      "cell_type": "code",
      "metadata": {
        "colab": {
          "base_uri": "https://localhost:8080/"
        },
        "id": "RUCHRYb3dTOC",
        "outputId": "8117a430-3c5e-4161-f66d-c4609f248216"
      },
      "source": [
        "dataset = pd.concat([Outlook_encoded,Temperature_encoded,Humidity_encoded,Wind_encoded,dataset['Play']], axis=1)\n",
        "print(dataset.describe())\n",
        "\n",
        "from sklearn.model_selection import train_test_split\n",
        "X=dataset.values[:,:-1]\n",
        "Y=dataset.values[:,-1]\n",
        "X_train, X_test, y_train, y_test = train_test_split( \n",
        "    X, Y, test_size = 0.25, random_state = 100)"
      ],
      "execution_count": 13,
      "outputs": [
        {
          "output_type": "stream",
          "name": "stdout",
          "text": [
            "       Outlook_Overcast  Outlook_Rainy  ...  Wind_True       Play\n",
            "count         14.000000      14.000000  ...  14.000000  14.000000\n",
            "mean           0.285714       0.357143  ...   0.428571   0.642857\n",
            "std            0.468807       0.497245  ...   0.513553   0.497245\n",
            "min            0.000000       0.000000  ...   0.000000   0.000000\n",
            "25%            0.000000       0.000000  ...   0.000000   0.000000\n",
            "50%            0.000000       0.000000  ...   0.000000   1.000000\n",
            "75%            0.750000       1.000000  ...   1.000000   1.000000\n",
            "max            1.000000       1.000000  ...   1.000000   1.000000\n",
            "\n",
            "[8 rows x 11 columns]\n"
          ]
        }
      ]
    },
    {
      "cell_type": "markdown",
      "metadata": {
        "id": "NMgpif_GdTOW"
      },
      "source": [
        "    Step 5: Train ’Create and Train DecisionTreeClassifier’"
      ]
    },
    {
      "cell_type": "code",
      "metadata": {
        "colab": {
          "base_uri": "https://localhost:8080/"
        },
        "id": "jDnsCMnGdTOa",
        "outputId": "a35b0289-3199-4e1f-d6de-55ccf9c24411"
      },
      "source": [
        "#Create a Decision Tree Classifier (using Entropy)\n",
        "dtc = DecisionTreeClassifier(criterion = \"gini\",max_leaf_nodes=64,random_state=64)\n",
        "\n",
        "# Train the model using the training sets\n",
        "dtc.fit(X_train, y_train) \n"
      ],
      "execution_count": 16,
      "outputs": [
        {
          "output_type": "execute_result",
          "data": {
            "text/plain": [
              "DecisionTreeClassifier(ccp_alpha=0.0, class_weight=None, criterion='gini',\n",
              "                       max_depth=None, max_features=None, max_leaf_nodes=64,\n",
              "                       min_impurity_decrease=0.0, min_impurity_split=None,\n",
              "                       min_samples_leaf=1, min_samples_split=2,\n",
              "                       min_weight_fraction_leaf=0.0, presort='deprecated',\n",
              "                       random_state=64, splitter='best')"
            ]
          },
          "metadata": {},
          "execution_count": 16
        }
      ]
    },
    {
      "cell_type": "markdown",
      "metadata": {
        "id": "ZmgZ1-obdTOw"
      },
      "source": [
        "    Step 6: Predict Output for new data"
      ]
    },
    {
      "cell_type": "code",
      "metadata": {
        "colab": {
          "base_uri": "https://localhost:8080/"
        },
        "id": "lD0pzkWtdTOy",
        "outputId": "e8eaa8ae-b58e-4226-c017-8d6c59981f98"
      },
      "source": [
        "#Predict Output\n",
        "y_pred = dtc.predict(X_test)\n",
        "print(\"Predicted values:\")\n",
        "print(y_pred)"
      ],
      "execution_count": 17,
      "outputs": [
        {
          "output_type": "stream",
          "name": "stdout",
          "text": [
            "Predicted values:\n",
            "[0. 1. 1. 0.]\n"
          ]
        }
      ]
    },
    {
      "cell_type": "code",
      "metadata": {
        "colab": {
          "base_uri": "https://localhost:8080/"
        },
        "id": "lc-d1PeVdTPD",
        "outputId": "15694179-c0e2-4cfb-c65f-a138b2448fcc"
      },
      "source": [
        "from sklearn import metrics\n",
        "print(\"Confusion Matrix: \\n\",\n",
        "        metrics.confusion_matrix(y_test, y_pred))\n",
        "print (\"Accuracy : \",\n",
        "    metrics.accuracy_score(y_test,y_pred)*100)\n",
        "print(\"Report : \",\n",
        "    metrics.classification_report(y_test, y_pred))"
      ],
      "execution_count": 19,
      "outputs": [
        {
          "output_type": "stream",
          "name": "stdout",
          "text": [
            "Confusion Matrix: \n",
            " [[1 1]\n",
            " [1 1]]\n",
            "Accuracy :  50.0\n",
            "Report :                precision    recall  f1-score   support\n",
            "\n",
            "         0.0       0.50      0.50      0.50         2\n",
            "         1.0       0.50      0.50      0.50         2\n",
            "\n",
            "    accuracy                           0.50         4\n",
            "   macro avg       0.50      0.50      0.50         4\n",
            "weighted avg       0.50      0.50      0.50         4\n",
            "\n"
          ]
        }
      ]
    },
    {
      "cell_type": "code",
      "metadata": {
        "colab": {
          "base_uri": "https://localhost:8080/"
        },
        "id": "TacUb9iqkl2O",
        "outputId": "7f1a4081-1c3f-4ef8-a524-ddfe7a30fc3e"
      },
      "source": [
        "print(dataset.columns)"
      ],
      "execution_count": 20,
      "outputs": [
        {
          "output_type": "stream",
          "name": "stdout",
          "text": [
            "Index(['Outlook_Overcast', 'Outlook_Rainy', 'Outlook_Sunny',\n",
            "       'Temperature_Cool', 'Temperature_Hot', 'Temperature_Mild',\n",
            "       'Humidity_High', 'Humidity_Normal', 'Wind_False', 'Wind_True', 'Play'],\n",
            "      dtype='object')\n"
          ]
        }
      ]
    },
    {
      "cell_type": "markdown",
      "metadata": {
        "id": "HzAswT7Ykq_O"
      },
      "source": [
        "**Exercise Questions**\n",
        "\n",
        "1. What will be the value of Play, if Outlook is ’Rainy’, Temperature is ’Mild’, Humidity =’Normal’, and Wind = ’False’?"
      ]
    },
    {
      "cell_type": "code",
      "metadata": {
        "colab": {
          "base_uri": "https://localhost:8080/"
        },
        "id": "JFSsx4d8ky3d",
        "outputId": "255d8427-b19f-44a9-a9ab-02fac7941294"
      },
      "source": [
        "print(dtc.predict([[0,1,0,0,0,1,0,1,1,0]]))"
      ],
      "execution_count": 21,
      "outputs": [
        {
          "output_type": "stream",
          "name": "stdout",
          "text": [
            "[1.]\n"
          ]
        }
      ]
    },
    {
      "cell_type": "markdown",
      "metadata": {
        "id": "6r5ja_8rkyLW"
      },
      "source": [
        "2.What will be the value of Play, if Outlook is ’Sunny’, Temeprature is ’Cool’, Humidity =’High’, and Wind = ’True’?"
      ]
    },
    {
      "cell_type": "code",
      "metadata": {
        "colab": {
          "base_uri": "https://localhost:8080/"
        },
        "id": "xP70AOV5k-ix",
        "outputId": "034dc006-3527-4b8b-df4d-080a51a5d0df"
      },
      "source": [
        "print(dtc.predict([[0,0,1,1,0,0,0,1,0,1]]))"
      ],
      "execution_count": 22,
      "outputs": [
        {
          "output_type": "stream",
          "name": "stdout",
          "text": [
            "[1.]\n"
          ]
        }
      ]
    }
  ]
}