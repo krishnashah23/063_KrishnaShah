{
  "nbformat": 4,
  "nbformat_minor": 0,
  "metadata": {
    "colab": {
      "name": "lab9_SVM.ipynb",
      "provenance": []
    },
    "kernelspec": {
      "name": "python3",
      "display_name": "Python 3"
    },
    "language_info": {
      "name": "python"
    }
  },
  "cells": [
    {
      "cell_type": "markdown",
      "metadata": {
        "id": "ADgysdSdML4C"
      },
      "source": [
        "#Aim: To implement SVM using scikit-learn library and train it to classify MNIST Data.\n",
        "\n",
        "##Key Terms: \n",
        "\n",
        "**Hyperplane:** A hyperplane is a decision plane which separates between a set of objects having different class memberships.\n",
        "\n",
        "**Support Vectors :** Support vectors are the data points, which are closest to the hyperplane. These points will define the separating line better by calculating margins.\n",
        "\n",
        "**Margin :** A margin is a gap between the two lines on the closest class points. This is calculated as the perpendicular distance from the line to support vectors or closest points. If the margin is larger in between the classes, then it is considered a good margin, a smaller margin is a bad margin.\n",
        "\n",
        "**SVM Kernel :** The SVM algorithm is implemented in practice using a kernel. A kernel transforms an input data space into the required form.\n",
        "\n",
        "**Linear Kernel :** A linear kernel can be used as normal dot product any two given observations. The product between two vectors is the sum of the multiplication of each pair of input values.\n",
        "\n",
        "$ K(x, xi) = sum(x * xi) $\n",
        "\n",
        "**Polynomial Kernel :** A polynomial kernel is a more generalized form of the linear kernel. The polynomial kernel can distinguish curved or nonlinear input space.\n",
        "$ K(x,xi) = 1 + sum(x * xi)^d$\n",
        "\n",
        "**RBF (Radial Basis Function) Kernel :** The Radial basis function kernel is a popular kernel function commonly used in support vector machine classification.RBF can map an input space in infinite dimensional space.\n",
        "$ K(x,xi) = exp(-gamma * sum((x xi^2)) $\n",
        "\n",
        "Here gamma is a parameter, which ranges from 0 to 1. A higher value of gamma will perfectly fit the training dataset, which causes over-fitting. Gamma=0.1 is considered to be a good default value. The value of gamma needs to be manually specified in the learning algorithm.\n",
        "\n",
        "**Exercise**\n"
      ]
    },
    {
      "cell_type": "code",
      "metadata": {
        "id": "4uoKIv09L1IL"
      },
      "source": [
        "import matplotlib.pyplot as plt\n",
        "from sklearn import svm\n",
        "from sklearn.model_selection import train_test_split\n",
        "import numpy as np\n",
        "import seaborn as sb\n",
        "import matplotlib.pyplot as plt"
      ],
      "execution_count": 1,
      "outputs": []
    },
    {
      "cell_type": "code",
      "metadata": {
        "colab": {
          "base_uri": "https://localhost:8080/"
        },
        "id": "BPrzel4WL9zf",
        "outputId": "63a1d9a3-ec64-4f7b-d975-53da3f0434b2"
      },
      "source": [
        "from sklearn import datasets\n",
        "digits=datasets.load_digits()\n",
        "#print the targets\n",
        "print(\"Targets: \",digits.target_names)"
      ],
      "execution_count": 3,
      "outputs": [
        {
          "output_type": "stream",
          "name": "stdout",
          "text": [
            "Targets:  [0 1 2 3 4 5 6 7 8 9]\n"
          ]
        }
      ]
    },
    {
      "cell_type": "code",
      "metadata": {
        "colab": {
          "base_uri": "https://localhost:8080/"
        },
        "id": "UG_XSyWBMhpa",
        "outputId": "9dee735a-c4aa-4340-ae31-090959768a0a"
      },
      "source": [
        "# print data(feature)shape\n",
        "digits.data.shape\n"
      ],
      "execution_count": 8,
      "outputs": [
        {
          "output_type": "execute_result",
          "data": {
            "text/plain": [
              "(1797, 64)"
            ]
          },
          "metadata": {},
          "execution_count": 8
        }
      ]
    },
    {
      "cell_type": "code",
      "metadata": {
        "colab": {
          "base_uri": "https://localhost:8080/"
        },
        "id": "gyd5B9MEMuLz",
        "outputId": "e9085f72-7c9b-42b1-bad6-d2b2a0f94b15"
      },
      "source": [
        "#print targets\n",
        "print(digits.target)"
      ],
      "execution_count": 7,
      "outputs": [
        {
          "output_type": "stream",
          "name": "stdout",
          "text": [
            "[0 1 2 ... 8 9 8]\n"
          ]
        }
      ]
    },
    {
      "cell_type": "code",
      "metadata": {
        "id": "SPrViLxAM4hV"
      },
      "source": [
        "# Split dataset into training set and test set\n",
        "X_train,X_test,Y_train,Y_test=train_test_split(digits.data,digits.target,test_size=0.2,random_state=63)"
      ],
      "execution_count": 9,
      "outputs": []
    },
    {
      "cell_type": "code",
      "metadata": {
        "id": "8DPBACJSNSEY"
      },
      "source": [
        "#Create a svm Classifier\n",
        "clf_linear = svm.SVC(kernel='linear',random_state=63) # Linear Kernel\n",
        "#Train the model using the training sets\n",
        "clf_linear.fit(X_train,Y_train)\n",
        "#Predict the response for test dataset\n",
        "y_pred_linear = clf_linear.predict(X_test)\n"
      ],
      "execution_count": 11,
      "outputs": []
    },
    {
      "cell_type": "code",
      "metadata": {
        "colab": {
          "base_uri": "https://localhost:8080/"
        },
        "id": "SACJziefNyG0",
        "outputId": "07239b9a-16ba-424d-8837-2982820bec61"
      },
      "source": [
        "from sklearn import metrics\n",
        "# Model Accuracy: how often is the classifier correct?\n",
        "print(\"Accuracy:\",metrics.accuracy_score(Y_test, y_pred_linear))\n",
        "# Model Precision: what percentage of positive tuples are labeled as such?\n",
        "print(\"Precision:\",metrics.precision_score(Y_test, y_pred_linear,average='weighted'))\n",
        "# Model Recall: what percentage of positive tuples are labelled as such?\n",
        "print(\"Recall:\",metrics.recall_score(Y_test, y_pred_linear,average='weighted'))"
      ],
      "execution_count": 12,
      "outputs": [
        {
          "output_type": "stream",
          "name": "stdout",
          "text": [
            "Accuracy: 0.9611111111111111\n",
            "Precision: 0.9622413759732731\n",
            "Recall: 0.9611111111111111\n"
          ]
        }
      ]
    },
    {
      "cell_type": "code",
      "metadata": {
        "id": "aJzeruuCN3HM"
      },
      "source": [
        "#using rbf kernel\n",
        "clf_rbf = svm.SVC(kernel='rbf',gamma=0.005,random_state=63) # rbf Kernel\n",
        "clf_rbf.fit(X_train,Y_train)\n",
        "#Predict the response for test dataset\n",
        "y_pred_rbf = clf_rbf.predict(X_test)"
      ],
      "execution_count": 13,
      "outputs": []
    },
    {
      "cell_type": "code",
      "metadata": {
        "colab": {
          "base_uri": "https://localhost:8080/"
        },
        "id": "p_SC_lpUOJhB",
        "outputId": "f9f64048-5de5-4596-ed3e-770caf08d8d8"
      },
      "source": [
        "# Model Accuracy: how often is the classifier correct?\n",
        "print(\"Accuracy:\",metrics.accuracy_score(Y_test, y_pred_rbf))\n",
        "# Model Precision: what percentage of positive tuples are labeled as such?\n",
        "print(\"Precision:\",metrics.precision_score(Y_test, y_pred_rbf,average='weighted'))\n",
        "# Model Recall: what percentage of positive tuples are labelled as such?\n",
        "print(\"Recall:\",metrics.recall_score(Y_test, y_pred_rbf,average='weighted'))"
      ],
      "execution_count": 14,
      "outputs": [
        {
          "output_type": "stream",
          "name": "stdout",
          "text": [
            "Accuracy: 0.975\n",
            "Precision: 0.9772222222222222\n",
            "Recall: 0.975\n"
          ]
        }
      ]
    },
    {
      "cell_type": "code",
      "metadata": {
        "id": "Eziwg8GMOOdc"
      },
      "source": [
        "#using poly kernel\n",
        "clf_poly = svm.SVC(kernel='poly',degree=3,random_state=63) # poly Kernel\n",
        "clf_poly.fit(X_train,Y_train)\n",
        "#Predict the response for test dataset\n",
        "y_pred_poly = clf_poly.predict(X_test)"
      ],
      "execution_count": 17,
      "outputs": []
    },
    {
      "cell_type": "code",
      "metadata": {
        "colab": {
          "base_uri": "https://localhost:8080/"
        },
        "id": "Rwofi1StOUJ2",
        "outputId": "911172d7-5024-4cff-8688-708ee605679e"
      },
      "source": [
        "# Model Accuracy: how often is the classifier correct?\n",
        "print(\"Accuracy:\",metrics.accuracy_score(Y_test, y_pred_poly))\n",
        "# Model Precision: what percentage of positive tuples are labeled as such?\n",
        "print(\"Precision:\",metrics.precision_score(Y_test, y_pred_poly,average='weighted'))\n",
        "# Model Recall: what percentage of positive tuples are labelled as such?\n",
        "print(\"Recall:\",metrics.recall_score(Y_test, y_pred_poly,average='weighted'))"
      ],
      "execution_count": 18,
      "outputs": [
        {
          "output_type": "stream",
          "name": "stdout",
          "text": [
            "Accuracy: 0.9777777777777777\n",
            "Precision: 0.978659773748007\n",
            "Recall: 0.9777777777777777\n"
          ]
        }
      ]
    }
  ]
}